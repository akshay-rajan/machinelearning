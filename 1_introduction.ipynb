{
 "cells": [
  {
   "cell_type": "markdown",
   "metadata": {},
   "source": [
    "# Machine Learning\n",
    "\n",
    "Machine Learning is a sub-field of Artificial Intelligence that focuses on the development of algorithms and models that enable computers to learn from and make predictions or decisions based on data.\n",
    "\n",
    "![ai](files/ai_types.png)\n",
    "\n",
    "Machine learning creates new algorithms from data and results\n",
    "\n",
    "**DATA + RESULTS = ALGORITHMS**\n",
    "\n"
   ]
  },
  {
   "cell_type": "markdown",
   "metadata": {},
   "source": [
    "## Neural Networks\n",
    "\n",
    "A **Neural Network** is a method used in machine learning which is based on how the human brain works. It is a software that learns from mistakes. While *neurons* are trying to solve a problem by sending messages to each other, it strengthens the connections that lead to success and diminishing the connections that lead to failure.\n",
    "\n",
    "![](files/neuralnetworks.jpg)"
   ]
  },
  {
   "cell_type": "markdown",
   "metadata": {},
   "source": [
    "### Perceptron\n",
    "\n",
    "A perceptron is a single neuron with only one input layer, and no hidden layers. A perceptron input is called a `node`. Each node has a `value`(x) and a `weight`(w). The [algorithm](https://www.w3schools.com/ai/ai_perceptrons.asp) is: \n",
    "1. Set a threshold value.\n",
    "2. Multiply all the inputs.\n",
    "3. If the product is greater than the threshold, return true. Otherwise, return false.\n",
    "\n",
    "Neural networks are **multi-layer perceptrons**.\n",
    "\n",
    "Perceptron             |  Neural Network\n",
    ":-------------------------:|:-------------------------:\n",
    "![](files/perceptron.jpg) | ![](files/neuralnw.jpg)\n",
    "\n",
    "In the *Neural Network Model*, the input data (yellow) is processed against a hidden layer (blue) before producing the final output (red).\n",
    "1. The yellow perceptrons are making simple decisions based on the input.\n",
    "2. The blue perceptrons are making decisions weighing the results from the first layer.\n",
    "\n",
    "**Deep Neural Networks** are neural networks made up of **multiple hidden layers** that perform complex operations on massive amounts of data. For instance, optical reading uses: the low layers to identify edges and the higher to identify letters. \n",
    "\n",
    "**Deep Learning** is a subset of machine learning that uses larger datasets, learns on its own and create complex algorithms, as compared to Machine Learning, which uses smaller datasets to create simpler algorithms, and is trained by humans."
   ]
  },
  {
   "cell_type": "markdown",
   "metadata": {},
   "source": [
    "### Artificial Intelligence\n",
    "\n",
    "`Artificial Intelligence` is a scientific discipline embracing several data science fields ranging from **narrow AI** to **strong AI**, including **Machine Learning**, **Deep Learning**, **Big Data**, **Data Mining** etc.\n",
    "\n",
    "* Narrow AI (**Weak AI**) is limited to specific areas.\n",
    "* Strong AI is built to mimic human intelligence."
   ]
  },
  {
   "cell_type": "markdown",
   "metadata": {},
   "source": [
    "### Pattern Recognition\n",
    "\n",
    "Neural Networks are used in applications like *facial recognition*, where **Pattern Recognition** is used. Perceptrons can be used to classify data into two parts (hence, known as *Linear Binary Classifiers*).\n",
    "\n",
    "**Training** a *perceptron* means using the correct answers to predict the output values of known input values.\n",
    "\n",
    "**Testing** a *perceptron* means Evaluating the predicted against Real Values.\n",
    "\n",
    "An ML model is trained by looping over the data multiple times. The training is complete when the iteration fails to reduce the cost."
   ]
  },
  {
   "cell_type": "markdown",
   "metadata": {},
   "source": [
    "## Machine Learning Terminology\n",
    "\n",
    "1. Supervised Learning: Uses a set of input variables to predict the the value of an output variable (identifying spam mails)\n",
    "2. Unsupervised Learning: Tries to identify patterns in the data. Computer algorithms that can improve itself.\n",
    "\n",
    "Machine learning has two main phases:\n",
    "\n",
    "* Training: Input data is used to calculate the parameters of the model\n",
    "* Inference (Testing): Checking whether the trained model outputs correct data from any input\n",
    "\n",
    "A machine learning `Model` defines the relationship between the label (y) and the features (x). The three phases in the life of a model includes `Data Collection, Training and Inference`.\n",
    "\n",
    "### Relationships\n",
    "\n",
    "ML uses relationships between `Inputs` to produce `Predictions`. A relationship is written as \n",
    "\n",
    "    y = b + wx\n",
    "\n",
    "where y - label we want to predict, w - weight, x - features (input values), b - intercept. \n",
    "\n",
    "### Label `y`\n",
    "\n",
    "Thing we want to predict.\n",
    "\n",
    "### Features `x`\n",
    "\n",
    "Input data.\n"
   ]
  },
  {
   "cell_type": "markdown",
   "metadata": {},
   "source": [
    "## Data\n",
    "\n",
    "Data is a collection of facts. Data can be quantitative (numerical) or qualitative (descriptive).\n",
    "\n",
    "`Census` is when we collect data from every member of a group. `Sample` is collecting data from specific members only.\n",
    "\n",
    "`Population` is the group of objects we collect data from. A `Random Sample` is a sample in which every member of a population has an equal chance of appearing in the Sample. `Sampling Bias` occur when some objects are more/less likely to be included in the sample.\n",
    "\n",
    "`Big Data` is the data that is impossible to be processed by humans without the help of advanced machinery.\n",
    "\n",
    "`Clusters` are collections of data that are similar."
   ]
  },
  {
   "cell_type": "markdown",
   "metadata": {},
   "source": [
    "## Data Types\n",
    "\n",
    "1. Numerical Data : Numbers\n",
    "\n",
    "        (i). Discrete Data: Integers\n",
    "        (ii). Continuous Data: Any number\n",
    "2. Categorical Data: Values that cannot be measured up against each other. Eg. yes/no\n",
    "3. Ordinal Data: Ordering of variables. Eg. Grades"
   ]
  },
  {
   "cell_type": "markdown",
   "metadata": {},
   "source": [
    "## Mean, Median, Mode, Standard Deviation, Variance\n",
    "\n",
    "* Mean: Average value = sum / number\n",
    "* Median: Middle value after sorting\n",
    "* Mode: Most occuring value\n",
    "* SD: How spread out the values are. (`np.std([...])`)\n",
    "* Variance: SD^2 (`np.var([...])`)\n"
   ]
  },
  {
   "cell_type": "markdown",
   "metadata": {},
   "source": [
    "# Data Distribution\n",
    "\n",
    "We can use `numpy` to create random data sets."
   ]
  },
  {
   "cell_type": "code",
   "execution_count": null,
   "metadata": {},
   "outputs": [
    {
     "name": "stdout",
     "output_type": "stream",
     "text": [
      "[3.00554032 4.50777988 0.24275924 2.48847967 3.86543755 3.67730342\n",
      " 0.10702532 2.2143451  1.35956343 2.29069483 0.76427501 1.39672642\n",
      " 4.91322537 1.6271322  4.19941881 0.8669685  3.59552837 0.54213484\n",
      " 4.68103045 0.74577273 3.82553686 2.05739243 3.00589213 1.81680149\n",
      " 0.70219842]\n"
     ]
    }
   ],
   "source": [
    "import numpy as np\n",
    "\n",
    "# 25 random numbers between 0 and 5\n",
    "print(np.random.uniform(0.0, 5.0, 25))"
   ]
  },
  {
   "cell_type": "markdown",
   "metadata": {},
   "source": [
    "We can use histograms to visualize data."
   ]
  },
  {
   "cell_type": "code",
   "execution_count": null,
   "metadata": {},
   "outputs": [
    {
     "data": {
      "image/png": "[encoded data removed]",
      "text/plain": [
       "<Figure size 640x480 with 1 Axes>"
      ]
     },
     "metadata": {},
     "output_type": "display_data"
    }
   ],
   "source": [
    "import matplotlib.pyplot as plt\n",
    "\n",
    "x = np.random.uniform(0.0, 5.0, 100000)\n",
    "plt.hist(x, 100)\n",
    "plt.show()"
   ]
  },
  {
   "cell_type": "markdown",
   "metadata": {},
   "source": [
    "In `normal distribution`, data is concentrated around a certain value."
   ]
  },
  {
   "cell_type": "code",
   "execution_count": null,
   "metadata": {},
   "outputs": [
    {
     "data": {
      "image/png": "[encoded data removed]",
      "text/plain": [
       "<Figure size 640x480 with 1 Axes>"
      ]
     },
     "metadata": {},
     "output_type": "display_data"
    }
   ],
   "source": [
    "x = np.random.normal(5.0, 1.0, 100000)\n",
    "\n",
    "plt.hist(x, 100)\n",
    "plt.show()"
   ]
  }
 ],
 "metadata": {
  "language_info": {
   "name": "python"
  }
 },
 "nbformat": 4,
 "nbformat_minor": 2
}

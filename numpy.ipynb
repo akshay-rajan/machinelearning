{
 "cells": [
  {
   "cell_type": "markdown",
   "metadata": {},
   "source": [
    "## NumPy\n",
    "\n",
    "Numpy (Numerical Python) is a python library used for working with arrays. Numpy arrays are 50x faster than traditional python lists (since these are stored in contiguous memory locations). These arrays, called `ndarray` are very frequently used in Data Science (a branch of Computer Science where we study how to store, use and analyse data for deriving information from it)."
   ]
  },
  {
   "cell_type": "markdown",
   "metadata": {},
   "source": [
    "### NumPy Arrays"
   ]
  },
  {
   "cell_type": "code",
   "execution_count": 26,
   "metadata": {},
   "outputs": [
    {
     "name": "stdout",
     "output_type": "stream",
     "text": [
      "[1 2 3]\n",
      "<class 'numpy.ndarray'>\n"
     ]
    }
   ],
   "source": [
    "# Numpy is usually imported under the alias 'np'\n",
    "import numpy as np\n",
    "\n",
    "arr = np.array([1, 2, 3])\n",
    "print(arr)\n",
    "print(type(arr))"
   ]
  },
  {
   "cell_type": "code",
   "execution_count": 27,
   "metadata": {},
   "outputs": [
    {
     "name": "stdout",
     "output_type": "stream",
     "text": [
      "[4 5 3]\n"
     ]
    }
   ],
   "source": [
    "# We can pass any array-like object (list, tuple,...) to create an ndarray \n",
    "arr2 = np.array((4, 5, 3))\n",
    "print(arr2)"
   ]
  },
  {
   "cell_type": "markdown",
   "metadata": {},
   "source": [
    "#### Dimensions in Arrays\n",
    "\n",
    "- Each value in an array is a `Scalar` or `0-D Array`\n",
    "- Array that has 0-D Arrays as its elements are `1-D Arrays`\n",
    "- Array that has 1-D Arrays as its elements are `2-D Arrays`, often used to represent matrices\n",
    "- Array that has 2-D Arrays/ Matrices as its elements are `3-D Arrays` (to represent 3rd order tensor: A mathmatical object used to represent physical quantities)\n",
    "\n",
    "We can use `ndim` to check the number of dimensions, and also the define the number of dimensions on creation of the array."
   ]
  },
  {
   "cell_type": "code",
   "execution_count": 28,
   "metadata": {},
   "outputs": [
    {
     "name": "stdout",
     "output_type": "stream",
     "text": [
      "33\n",
      "[[1 2 3]\n",
      " [4 5 6]]\n",
      "[[[1 2 3]\n",
      "  [4 5 6]]\n",
      "\n",
      " [[1 2 3]\n",
      "  [4 5 6]]]\n",
      "Number of dimensions in d3:  3\n",
      "[[[[[1 2 3 4 5]]]]]\n"
     ]
    }
   ],
   "source": [
    "scalar = np.array(33)\n",
    "print(scalar)\n",
    "d2 = np.array([[1, 2, 3], [4, 5, 6]])\n",
    "print(d2)\n",
    "d3 = np.array([[[1, 2, 3], [4, 5, 6]], [[1, 2, 3], [4, 5, 6]]])\n",
    "print(d3)\n",
    "print(\"Number of dimensions in d3: \", np.ndim(d3))\n",
    "d5 = np.array([1, 2, 3, 4, 5], ndmin=5)\n",
    "print(d5)"
   ]
  },
  {
   "cell_type": "markdown",
   "metadata": {},
   "source": [
    "#### Access Array Elements\n",
    "\n"
   ]
  },
  {
   "cell_type": "code",
   "execution_count": 29,
   "metadata": {},
   "outputs": [
    {
     "name": "stdout",
     "output_type": "stream",
     "text": [
      "Second element:  4\n",
      "3rd element on 2nd row:  6\n",
      "Last element on 1st row:  3\n"
     ]
    }
   ],
   "source": [
    "arr = np.array([3, 4, 5])\n",
    "print(\"Second element: \", arr[1])\n",
    "\n",
    "arr2 = np.array([[1, 2, 3], [4, 5, 6]])\n",
    "print(\"3rd element on 2nd row: \",arr2[1, 2])\n",
    "print(\"Last element on 1st row: \",arr2[0, -1])"
   ]
  },
  {
   "cell_type": "markdown",
   "metadata": {},
   "source": [
    "#### Data Types\n",
    "\n",
    "- i - integer\n",
    "- b - boolean\n",
    "- u - unsigned integer\n",
    "- f - float\n",
    "- c - complex float\n",
    "- m - timedelta\n",
    "- M - datetime\n",
    "- O - object\n",
    "- S - string\n",
    "- U - unicode string\n",
    "- V - fixed chunk of memory for other type ( void )"
   ]
  },
  {
   "cell_type": "code",
   "execution_count": 30,
   "metadata": {},
   "outputs": [
    {
     "name": "stdout",
     "output_type": "stream",
     "text": [
      "[b'1' b'2' b'3' b'4' b'5'] Datatype:  |S1\n"
     ]
    }
   ],
   "source": [
    "# Creating array with a defined datatype\n",
    "arr = np.array([1, 2 , 3, 4, 5], dtype='S')\n",
    "print(arr,\"Datatype: \", arr.dtype)"
   ]
  },
  {
   "cell_type": "markdown",
   "metadata": {},
   "source": [
    "`astype()` function creates a copy of the array and allows specifying datatype"
   ]
  },
  {
   "cell_type": "code",
   "execution_count": 31,
   "metadata": {},
   "outputs": [
    {
     "name": "stdout",
     "output_type": "stream",
     "text": [
      "[1.2 3.5 5.3] [1 3 5]\n"
     ]
    }
   ],
   "source": [
    "arr = np.array([1.2, 3.5, 5.3])\n",
    "newarr = arr.astype('i')\n",
    "print(arr, newarr)"
   ]
  },
  {
   "cell_type": "markdown",
   "metadata": {},
   "source": [
    "#### Copy vs View\n",
    "\n",
    "Copy is a new array, and view is just a view of the original array.\n",
    "\n",
    "Copy owns the data, and view does not. `base` attribute returns none if the array owns the data, or the original object if it doesn't."
   ]
  },
  {
   "cell_type": "code",
   "execution_count": 32,
   "metadata": {},
   "outputs": [
    {
     "name": "stdout",
     "output_type": "stream",
     "text": [
      "[1 2 3] \tCopy:  [100   2   3]\n",
      "[50  2  3] \tView:  [50  2  3]\n"
     ]
    }
   ],
   "source": [
    "arr = np.array([1, 2, 3])\n",
    "copy = arr.copy()\n",
    "copy[0] = 100\n",
    "print(arr, \"\\tCopy: \", copy)\n",
    "view = arr.view()\n",
    "view[0] = 50\n",
    "print(arr, \"\\tView: \", view)"
   ]
  },
  {
   "cell_type": "markdown",
   "metadata": {},
   "source": [
    "#### Shape"
   ]
  },
  {
   "cell_type": "code",
   "execution_count": 33,
   "metadata": {},
   "outputs": [
    {
     "name": "stdout",
     "output_type": "stream",
     "text": [
      "(1, 1, 1, 4)\n"
     ]
    }
   ],
   "source": [
    "arr = np.array([1, 2, 3, 4], ndmin=4)\n",
    "print(arr.shape)"
   ]
  },
  {
   "cell_type": "markdown",
   "metadata": {},
   "source": [
    "#### Joining\n",
    "\n",
    "Joining means putting the contents of two or more arrays in a single array. We pass those arrays to the `concatenate()` function, along with the axis (by default, axis is 0)."
   ]
  },
  {
   "cell_type": "code",
   "execution_count": 34,
   "metadata": {},
   "outputs": [
    {
     "name": "stdout",
     "output_type": "stream",
     "text": [
      "[1 2 3 3 4 5]\n"
     ]
    }
   ],
   "source": [
    "arr1 = np.array([1, 2, 3])\n",
    "arr2 = np.array([3, 4, 5])\n",
    "arr = np.concatenate((arr1, arr2))\n",
    "print(arr)"
   ]
  },
  {
   "cell_type": "markdown",
   "metadata": {},
   "source": [
    "**Stacking** is like concatenation, done along a new axis. When two 1-D arrays are stacked, we get a 2-D array."
   ]
  },
  {
   "cell_type": "code",
   "execution_count": 35,
   "metadata": {},
   "outputs": [
    {
     "name": "stdout",
     "output_type": "stream",
     "text": [
      "[[1 2 3]\n",
      " [3 4 5]]\n",
      "[[1 3]\n",
      " [2 4]\n",
      " [3 5]]\n"
     ]
    }
   ],
   "source": [
    "st = np.stack((arr1, arr2))\n",
    "print(st)\n",
    "st = np.stack((arr1, arr2), axis=1)\n",
    "print(st)"
   ]
  },
  {
   "cell_type": "markdown",
   "metadata": {},
   "source": [
    "#### Split\n",
    "\n",
    "Breaking of one array into multiple arrays: reverse of joining."
   ]
  },
  {
   "cell_type": "code",
   "execution_count": 36,
   "metadata": {},
   "outputs": [
    {
     "name": "stdout",
     "output_type": "stream",
     "text": [
      "[array([1, 2]), array([3, 4]), array([5]), array([6])]\n"
     ]
    }
   ],
   "source": [
    "arr = np.array([1, 2, 3, 4, 5, 6])\n",
    "print(np.array_split(arr, 4))"
   ]
  },
  {
   "cell_type": "markdown",
   "metadata": {},
   "source": [
    "#### Search\n",
    "\n",
    "To search an array for a certain value, and return the index;"
   ]
  },
  {
   "cell_type": "code",
   "execution_count": 37,
   "metadata": {},
   "outputs": [
    {
     "name": "stdout",
     "output_type": "stream",
     "text": [
      "(array([4], dtype=int64),)\n"
     ]
    }
   ],
   "source": [
    "print(np.where(arr == 5))"
   ]
  },
  {
   "cell_type": "markdown",
   "metadata": {},
   "source": [
    "#### Sorting"
   ]
  },
  {
   "cell_type": "code",
   "execution_count": 40,
   "metadata": {},
   "outputs": [
    {
     "name": "stdout",
     "output_type": "stream",
     "text": [
      "[1 2 3 6 8]\n"
     ]
    }
   ],
   "source": [
    "arr = [3, 2, 6, 1, 8]\n",
    "print(np.sort(arr))"
   ]
  },
  {
   "cell_type": "markdown",
   "metadata": {},
   "source": [
    "### NumPy Random\n",
    "\n",
    "Random numbers generated through a generation algorithm are called *pseudo random*.\n",
    "Numpy offers `random` module to work with random numbers."
   ]
  },
  {
   "cell_type": "code",
   "execution_count": 9,
   "metadata": {},
   "outputs": [
    {
     "name": "stdout",
     "output_type": "stream",
     "text": [
      "21\n",
      "0.14109310603945213\n",
      "[59 65 48 80]\n",
      "[[39  1 40 99 82]\n",
      " [84 16 13 38 71]]\n",
      "7\n"
     ]
    }
   ],
   "source": [
    "from numpy import random\n",
    "\n",
    "# Generate a random integer from 0 to 100\n",
    "x = random.randint(100)\n",
    "print(x)\n",
    "\n",
    "# Generate a random float from 0 to 1\n",
    "x = random.rand()\n",
    "print(x)\n",
    "\n",
    "# Generate an array containing 4 random numbers\n",
    "x = random.randint(100,  size=4)\n",
    "print(x)\n",
    "\n",
    "# Generate a random 2D array containing 2 rows, with 5 integers each\n",
    "x = random.randint(100,  size=(2, 5))\n",
    "print(x)\n",
    "\n",
    "# Choose a random number from an array\n",
    "x = random.choice([3, 5, 7, 8])\n",
    "print(x)"
   ]
  },
  {
   "cell_type": "markdown",
   "metadata": {},
   "source": [
    "A random distribution is a set of random numbers that follow a certain *probability density function*.\n",
    "\n",
    "`PDF`: A function that describes the probability of all values in an array"
   ]
  },
  {
   "cell_type": "code",
   "execution_count": 12,
   "metadata": {},
   "outputs": [
    {
     "name": "stdout",
     "output_type": "stream",
     "text": [
      "[5 8 3 2 8 2 8 8 2 5 2 5 8 2 3 3 8 2 5 5 2 5 5 2 8 8 2 8 3 8 2 8 5 2 2 8 8\n",
      " 8 2 5 8 8 5 5 2 5 8 3 2 5 5 5 5 2 8 8 8 3 5 2 5 2 8 3 2 5 2 2 2 5 2 8 5 3\n",
      " 5 2 8 8 5 5 8 2 3 2 8 5 5 2 2 2 2 5 3 5 3 8 8 5 3 5]\n"
     ]
    }
   ],
   "source": [
    "# The probability for a value to be 3 is 0.1, 5 is 0.3 and so on\n",
    "x = random.choice([3, 5, 2, 8], p=[0.1, 0.3, 0.3, 0.3], size=(100))\n",
    "print(x)"
   ]
  },
  {
   "cell_type": "markdown",
   "metadata": {},
   "source": [
    "## Seaborn\n",
    "\n",
    "Seaborn is a library that uses matplotlib underneath to plot graphs."
   ]
  },
  {
   "cell_type": "code",
   "execution_count": 16,
   "metadata": {},
   "outputs": [
    {
     "data": {
      "image/png": "[encoded data removed]",
      "text/plain": [
       "<Figure size 640x480 with 1 Axes>"
      ]
     },
     "metadata": {},
     "output_type": "display_data"
    }
   ],
   "source": [
    "import seaborn as sns\n",
    "import matplotlib.pyplot as plt\n",
    "\n",
    "# Plotting histogram\n",
    "sns.histplot([0, 1, 2, 3, 4, 5])\n",
    "plt.show()"
   ]
  }
 ],
 "metadata": {
  "kernelspec": {
   "display_name": "Python 3",
   "language": "python",
   "name": "python3"
  },
  "language_info": {
   "codemirror_mode": {
    "name": "ipython",
    "version": 3
   },
   "file_extension": ".py",
   "mimetype": "text/x-python",
   "name": "python",
   "nbconvert_exporter": "python",
   "pygments_lexer": "ipython3",
   "version": "3.11.3"
  }
 },
 "nbformat": 4,
 "nbformat_minor": 2
}

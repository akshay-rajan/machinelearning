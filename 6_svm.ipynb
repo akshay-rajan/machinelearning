{
 "cells": [
  {
   "cell_type": "markdown",
   "metadata": {},
   "source": [
    "# Support Vector Machine\n",
    "\n",
    "Supervised learning algorithm used for both classification and regression.\n",
    "\n",
    "SVM constructs a hyperplane for classification, along with two parallel hyper planes and try to maximize the margin.\n",
    "\n",
    "![svm](./files/Support-Vector-Machine-SVM.jpg)\n",
    "\n",
    "SVM tries to maximize the margin so that the nearest data point is far away from the hyperplane.\n",
    "The vectors that support the hyperplane are called the **Support Vectors**.\n",
    "\n",
    "* Hard margin - Not allowing any data point to come inside the margin.\n",
    "* Soft margin - Some data points are allowed to enter inside the margin."
   ]
  },
  {
   "cell_type": "markdown",
   "metadata": {},
   "source": [
    "### Kernel Trick\n",
    "\n",
    "Kernel Trick is a method used in machine learning to transform data that is not linearly separable in its original feature space into a higher-dimensional space where it becomes linearly separable. This allows linear algorithms like SVMs to solve non-linear problems."
   ]
  },
  {
   "cell_type": "code",
   "execution_count": null,
   "metadata": {},
   "outputs": [],
   "source": [
    "from sklearn.svm import SVC\n",
    "\n",
    "# Create an SVM with a radial basis function (RBF) kernel\n",
    "model = SVC(kernel='rbf', gamma='scale')\n",
    "\n",
    "# Train the model\n",
    "model.fit(X_train, y_train)"
   ]
  },
  {
   "cell_type": "code",
   "execution_count": null,
   "metadata": {},
   "outputs": [],
   "source": []
  }
 ],
 "metadata": {
  "language_info": {
   "name": "python"
  }
 },
 "nbformat": 4,
 "nbformat_minor": 2
}

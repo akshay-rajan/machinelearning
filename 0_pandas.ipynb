{
 "cells": [
  {
   "cell_type": "markdown",
   "metadata": {},
   "source": [
    "## Pandas\n",
    "\n",
    "Pandas is a python library used to analyze, clean, explore and manipulate data."
   ]
  },
  {
   "cell_type": "code",
   "execution_count": 2,
   "metadata": {},
   "outputs": [
    {
     "name": "stdout",
     "output_type": "stream",
     "text": [
      "    cars ratings\n",
      "0    BMW       8\n",
      "1  Honda       3\n",
      "2   Audi       6\n"
     ]
    }
   ],
   "source": [
    "import pandas as pd\n",
    "\n",
    "mydataset = {\n",
    "    \"cars\": [\"BMW\", \"Honda\", \"Audi\"], \n",
    "    \"ratings\": [\"8\", \"3\", \"6\"]\n",
    "}\n",
    "\n",
    "x = pd.DataFrame(mydataset)\n",
    "print(x)"
   ]
  },
  {
   "cell_type": "markdown",
   "metadata": {},
   "source": [
    "### Series\n",
    "\n",
    "A Pandas Series is like a column in a table (one-dimensional array)."
   ]
  },
  {
   "cell_type": "code",
   "execution_count": 3,
   "metadata": {},
   "outputs": [
    {
     "name": "stdout",
     "output_type": "stream",
     "text": [
      "0    3\n",
      "1    5\n",
      "2    2\n",
      "dtype: int64\n",
      "x    3\n",
      "y    5\n",
      "z    2\n",
      "dtype: int64\n",
      "a    3\n",
      "b    7\n",
      "c    9\n",
      "dtype: int64\n"
     ]
    }
   ],
   "source": [
    "a = [3, 5, 2]\n",
    "var = pd.Series(a)\n",
    "print(var)\n",
    "\n",
    "# Using our own labels for each entry\n",
    "var = pd.Series(a, index=[\"x\", \"y\", \"z\"])\n",
    "print(var)\n",
    "\n",
    "# Using dictionary\n",
    "a = {\"a\": 3, \"b\": 7, \"c\": 9}\n",
    "print(pd.Series(a))"
   ]
  },
  {
   "cell_type": "markdown",
   "metadata": {},
   "source": [
    "### DataFrames\n",
    "\n",
    "Datasets in pandas are usually multi-dimensional tables, called DataFrames.\n",
    "\n",
    "`loc` attribute is used to locate one or more rows. We can also change the labels using the `index` attribute while constructing the dataframe."
   ]
  },
  {
   "cell_type": "code",
   "execution_count": 4,
   "metadata": {},
   "outputs": [
    {
     "name": "stdout",
     "output_type": "stream",
     "text": [
      "   calories  duration\n",
      "1       420        50\n",
      "2       380        40\n",
      "3       390        45\n",
      "      calories  duration\n",
      "day1       420        50\n",
      "day2       380        40\n",
      "day3       390        45 \n",
      "       calories  duration\n",
      "day2       380        40\n"
     ]
    }
   ],
   "source": [
    "data = {\n",
    "  \"calories\": [420, 380, 390],\n",
    "  \"duration\": [50, 40, 45]\n",
    "}\n",
    "\n",
    "x = pd.DataFrame(data, index=[1, 2, 3])\n",
    "print(x)\n",
    "\n",
    "df = pd.DataFrame(data, index=[\"day1\", \"day2\", \"day3\"])\n",
    "print(df,\"\\n\", df.loc[[\"day2\"]])"
   ]
  },
  {
   "cell_type": "markdown",
   "metadata": {},
   "source": [
    "### CSV"
   ]
  },
  {
   "cell_type": "code",
   "execution_count": 8,
   "metadata": {},
   "outputs": [
    {
     "name": "stdout",
     "output_type": "stream",
     "text": [
      "   Gender  Age  Salary  Purchase Duke\n",
      "0    Male   19   19000              0\n",
      "1    Male   35   20000              0\n",
      "2  Female   26   43000              0\n",
      "3  Female   27   57000              0\n",
      "4    Male   19   76000              0\n",
      "5    Male   27   58000              0\n",
      "6  Female   27   84000              0\n",
      "7  Female   32  150000              1\n",
      "8    Male   25   33000              0\n",
      "9  Female   35   65000              0\n",
      "999\n",
      "     Gender  Age  Salary  Purchase Duke\n",
      "390    Male   48   33000              1\n",
      "391    Male   47   23000              1\n",
      "392  Female   45   45000              1\n",
      "393    Male   60   42000              1\n",
      "394  Female   39   59000              0\n",
      "395  Female   46   41000              1\n",
      "396    Male   51   23000              1\n",
      "397  Female   50   20000              1\n",
      "398    Male   36   33000              0\n",
      "399  Female   49   36000              1\n"
     ]
    }
   ],
   "source": [
    "df = pd.read_csv('bike.csv')\n",
    "# print(df.to_string())\n",
    "print(df.head(10))\n",
    "\n",
    "# Changing the maximum number of rows displayed\n",
    "print(pd.options.display.max_rows)\n",
    "pd.options.display.max_rows = 999\n",
    "print(df.tail(10))"
   ]
  },
  {
   "cell_type": "markdown",
   "metadata": {},
   "source": [
    "### Analyzing Data\n",
    "\n",
    "- `head()` returns the headers and a specified number of rows from the top (default, 5 rows).\n",
    "- `tail()` returns the headers and a specified number of rows from the bottom"
   ]
  },
  {
   "cell_type": "code",
   "execution_count": null,
   "metadata": {},
   "outputs": [
    {
     "name": "stdout",
     "output_type": "stream",
     "text": [
      "   Duration  Pulse  Maxpulse  Calories\n",
      "0        60    110       130     409.1\n",
      "1        60    117       145     479.0\n",
      "2        60    103       135     340.0\n",
      "3        45    109       175     282.4\n",
      "4        45    117       148     406.0\n",
      "5        60    102       127     300.0\n",
      "6        60    110       136     374.0\n",
      "7        45    104       134     253.3\n",
      "8        30    109       133     195.1\n",
      "9        60     98       124     269.0\n",
      "     Duration  Pulse  Maxpulse  Calories\n",
      "162        45     95       130     270.0\n",
      "163        45    100       140     280.9\n",
      "164        60    105       140     290.8\n",
      "165        60    110       145     300.0\n",
      "166        60    115       145     310.2\n",
      "167        75    120       150     320.4\n",
      "168        75    125       150     330.4\n"
     ]
    }
   ],
   "source": [
    "a = pd.read_csv('data.csv')\n",
    "print(a.head(10))\n",
    "print(a.tail(7))"
   ]
  }
 ],
 "metadata": {
  "kernelspec": {
   "display_name": "Python 3",
   "language": "python",
   "name": "python3"
  },
  "language_info": {
   "codemirror_mode": {
    "name": "ipython",
    "version": 3
   },
   "file_extension": ".py",
   "mimetype": "text/x-python",
   "name": "python",
   "nbconvert_exporter": "python",
   "pygments_lexer": "ipython3",
   "version": "3.11.3"
  }
 },
 "nbformat": 4,
 "nbformat_minor": 2
}

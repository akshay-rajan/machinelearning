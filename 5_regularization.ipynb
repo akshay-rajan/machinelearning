{
 "cells": [
  {
   "cell_type": "markdown",
   "metadata": {},
   "source": [
    "# Regularization\n",
    "\n",
    "Regularization is a solution to overfitting, in which we remove some of the features. The types of regularization are\n",
    "\n",
    "1. L1 Regularization (`LASSO Regularization`)\n",
    "2. L2 Regularization\n",
    "3. Elastic Net Regularization\n",
    "\n",
    "Least Absolute Shrinkage and Selection Operation (L1) Regularization adds a penalty term to the cost function that is proportional to the absolute value of the coefficients. This encourages sparsity in the model, meaning it will set some coefficients to zero, effectively removing those features from the model.\n",
    "\n",
    "L2 Regularization adds a penalty term to the cost function that is proportional to the square of the coefficients. This encourages smaller coefficients, effectively shrinking them towards zero.\n",
    "\n",
    "Elastic Net Regularization is a combination of L1 and L2 regularization. It adds both penalty terms to the cost function, allowing for a balance between sparsity and shrinkage.\n",
    "\n",
    "Regularization helps to prevent overfitting by reducing the complexity of the model and improving its generalization ability. It is particularly useful when dealing with high-dimensional datasets or when there is a large number of features compared to the number of observations.\n"
   ]
  }
 ],
 "metadata": {
  "language_info": {
   "name": "python"
  }
 },
 "nbformat": 4,
 "nbformat_minor": 2
}

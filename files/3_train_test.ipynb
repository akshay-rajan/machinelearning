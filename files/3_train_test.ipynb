{
 "cells": [
  {
   "cell_type": "markdown",
   "metadata": {},
   "source": [
    "# Train / Test\n",
    "\n",
    "Train/Test is a method used to measure the accuracy of a model. We split the data set into two sets:\n",
    "\n",
    "1. Training Set - 80%\n",
    "2. Testing Set - 20%\n",
    "\n",
    "Then we train the model (create the model) using the training set and test (inference / check the accuracy) using the testing set."
   ]
  }
 ],
 "metadata": {
  "language_info": {
   "name": "python"
  }
 },
 "nbformat": 4,
 "nbformat_minor": 2
}
